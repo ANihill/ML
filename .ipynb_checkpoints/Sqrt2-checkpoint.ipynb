{
 "cells": [
  {
   "cell_type": "markdown",
   "metadata": {},
   "source": [
    "# Square Root of 2"
   ]
  },
  {
   "cell_type": "markdown",
   "metadata": {},
   "source": [
    "To calculate the square root of a number in python you need to use the power operator, x ** y, where x is the number you would like to get the square root of and y is 0.5. This is based on the mathmatical property of $\\sqrt{x}$ = $x^{\\frac{1}{2}}$, i.e. the square root of a number is equal to that number to the power of ${\\frac{1}{2}}$.\n",
    "\n",
    "Using a common example, we know that $\\sqrt{4} = 2$.\n",
    "\n",
    "Conversely $2^{2} = 4$.\n",
    "\n",
    "Now raise both to the half power.\n",
    "\n",
    "$2^{2^\\frac{1}{2}} = 4^{\\frac{1}{2}}$\n",
    "\n",
    "When raising a power to another power you multiply them.\n",
    "\n",
    "$2^{2\\times \\frac{1}{2}} = 2^1 = 2$\n",
    "\n",
    "So from this we can infer that $2 = 4^{\\frac{1}{2}}$ and subsequently $\\sqrt{4} = 4^{\\frac{1}{2}}$.\n",
    "\n",
    "The following function will calculate the square root of 2 and given that the 2 is not a perfect square it will return an irrational number, one that cannot be expressed as a simple fraction. As such the function will return the square root of 2 to 100 places. "
   ]
  },
  {
   "cell_type": "code",
   "execution_count": 6,
   "metadata": {},
   "outputs": [],
   "source": [
    "# https://realpython.com/python-square-root-function/\n",
    "\n",
    "# define function \n",
    "def sqrt2():\n",
    "    \n",
    "    n = 2  # variable containing the number 2\n",
    "    \n",
    "    n_sqrt = n ** 0.5 # variable containing square root of 2 \n",
    "    \n",
    "    # print the square root of 2 to 100 places\n",
    "    print('The square root of %d is %.100f'% (n, n_sqrt))"
   ]
  },
  {
   "cell_type": "code",
   "execution_count": 7,
   "metadata": {},
   "outputs": [
    {
     "name": "stdout",
     "output_type": "stream",
     "text": [
      "The square root of 2 is 1.4142135623730951454746218587388284504413604736328125000000000000000000000000000000000000000000000000\n"
     ]
    }
   ],
   "source": [
    "sqrt2()"
   ]
  },
  {
   "cell_type": "code",
   "execution_count": null,
   "metadata": {},
   "outputs": [],
   "source": []
  }
 ],
 "metadata": {
  "kernelspec": {
   "display_name": "Python 3",
   "language": "python",
   "name": "python3"
  },
  "language_info": {
   "codemirror_mode": {
    "name": "ipython",
    "version": 3
   },
   "file_extension": ".py",
   "mimetype": "text/x-python",
   "name": "python",
   "nbconvert_exporter": "python",
   "pygments_lexer": "ipython3",
   "version": "3.8.3"
  }
 },
 "nbformat": 4,
 "nbformat_minor": 4
}
