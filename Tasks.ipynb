{
 "cells": [
  {
   "cell_type": "markdown",
   "metadata": {},
   "source": [
    "# Tasks"
   ]
  },
  {
   "cell_type": "code",
   "execution_count": 38,
   "metadata": {},
   "outputs": [],
   "source": [
    "from scipy.stats import chisquare\n",
    "import numpy as np\n",
    "import pandas as pd\n",
    "import matplotlib.pyplot as plt\n",
    "import seaborn as sns\n",
    "from scipy.stats import chi2_contingency\n",
    "from sklearn import neighbors, datasets, metrics\n",
    "from sklearn.model_selection import train_test_split\n",
    "from sklearn.neighbors import KNeighborsClassifier\n",
    "from matplotlib.colors import ListedColormap"
   ]
  },
  {
   "cell_type": "markdown",
   "metadata": {},
   "source": [
    "## Task 1\n",
    "### Write a Python function called sqrt2 that calculates and prints to the screen the square root of 2 to 100 decimal places."
   ]
  },
  {
   "cell_type": "markdown",
   "metadata": {},
   "source": [
    "## Square Root of 2"
   ]
  },
  {
   "cell_type": "markdown",
   "metadata": {},
   "source": [
    "To calculate the square root of a number in python you need to use the power operator, x ** y, where x is the number you would like to get the square root of and y is 0.5. This is based on the mathmatical property of $\\sqrt{x}$ = $x^{\\frac{1}{2}}$, i.e. the square root of a number is equal to that number to the power of ${\\frac{1}{2}}$.\n",
    "\n",
    "Using a common example, we know that $\\sqrt{4} = 2$.\n",
    "\n",
    "Conversely $2^{2} = 4$.\n",
    "\n",
    "Now raise both to the half power.\n",
    "\n",
    "$2^{2^\\frac{1}{2}} = 4^{\\frac{1}{2}}$\n",
    "\n",
    "When raising a power to another power you multiply them.\n",
    "\n",
    "$2^{2\\times \\frac{1}{2}} = 2^1 = 2$\n",
    "\n",
    "So from this we can infer that $2 = 4^{\\frac{1}{2}}$ and subsequently $\\sqrt{4} = 4^{\\frac{1}{2}}$.\n",
    "\n",
    "The following function will calculate the square root of 2 and given that the 2 is not a perfect square it will return an irrational number, one that cannot be expressed as a simple fraction. As such the function will return the square root of 2 to 100 places. "
   ]
  },
  {
   "cell_type": "code",
   "execution_count": 108,
   "metadata": {},
   "outputs": [],
   "source": [
    "# https://realpython.com/python-square-root-function/\n",
    "\n",
    "# define function \n",
    "def sqrt2():\n",
    "    \n",
    "    n = 2  # variable containing the number 2\n",
    "    \n",
    "    n_sqrt = n ** 0.5 # variable containing square root of 2 \n",
    "    \n",
    "    # print the square root of 2 to 100 places\n",
    "    print('The square root of %d is %.100f'% (n, n_sqrt))"
   ]
  },
  {
   "cell_type": "code",
   "execution_count": 109,
   "metadata": {},
   "outputs": [
    {
     "name": "stdout",
     "output_type": "stream",
     "text": [
      "The square root of 2 is 1.4142135623730951454746218587388284504413604736328125000000000000000000000000000000000000000000000000\n"
     ]
    }
   ],
   "source": [
    "sqrt2()"
   ]
  },
  {
   "cell_type": "markdown",
   "metadata": {},
   "source": [
    "As we can see when we return the square root of 2 to 100 places it stops at 52 places. This is explained in the python documentation and is a result of how floating point numbers are stored in memory. Floating point numbers are represented by binaray numbers in computer hardware. However most decimal fractions cannot be exactly represented in binary. As such an approximation in binary is stored for floating point numbers and this approximation is limited to the first 53 bits. "
   ]
  },
  {
   "cell_type": "markdown",
   "metadata": {},
   "source": [
    "### References\n",
    " - https://realpython.com/python-square-root-function/\n",
    " - https://docs.python.org/3/tutorial/floatingpoint.html"
   ]
  },
  {
   "cell_type": "markdown",
   "metadata": {},
   "source": [
    "## Task 2\n",
    "### The Wikipedia article gives the table below as an example, stating the Chi-squared value based on it is approximately 24.6. Use scipy.stats to verify this value and calculate the associated p value. You should include a short note with references justifying your analysis in a markdown cell."
   ]
  },
  {
   "cell_type": "code",
   "execution_count": 4,
   "metadata": {},
   "outputs": [
    {
     "name": "stdout",
     "output_type": "stream",
     "text": [
      "               A   B    C   D\n",
      "White Collar  90  60  104  95\n",
      "Blue Collar   30  50   51  20\n",
      "No collar     30  40   45  35\n"
     ]
    }
   ],
   "source": [
    "cols = ['A', 'B', 'C', 'D']\n",
    "data = pd.DataFrame(columns=cols)\n",
    "\n",
    "data.loc['White Collar'] = [90, 60, 104, 95]\n",
    "data.loc['Blue Collar'] = [30, 50, 51, 20]\n",
    "data.loc['No collar'] = [30, 40, 45, 35]\n",
    "\n",
    "print (data)"
   ]
  },
  {
   "cell_type": "markdown",
   "metadata": {},
   "source": [
    "### Chi-Square Test"
   ]
  },
  {
   "cell_type": "markdown",
   "metadata": {},
   "source": [
    "The [Wikipedia article](https://en.wikipedia.org/wiki/Chi-squared_test) has an example of the chi-squared test where a a random sample of 650 people is taken from a hypothetical city of 1,000,000 residents with with four neighbourhoods. Each resident in this sample is designated white collar, blue collar, or no collar designated based on their occupation. A table based on this is displayed below. "
   ]
  },
  {
   "cell_type": "code",
   "execution_count": 5,
   "metadata": {},
   "outputs": [
    {
     "name": "stdout",
     "output_type": "stream",
     "text": [
      "24.6\n"
     ]
    }
   ],
   "source": [
    "stat, p, dof, expected = chi2_contingency(data)\n",
    "print(round(stat,1))"
   ]
  },
  {
   "cell_type": "markdown",
   "metadata": {},
   "source": [
    "Running the [chi2 contingency test](https://docs.scipy.org/doc/scipy/reference/generated/scipy.stats.chi2_contingency.html) from scipy.stats yields the same result as the wikipedia article, 24.6. This result will examined in closer detail below by calculating the expected values for blue collar workers, white collar workers, and no collar workers and calculating the chi-square values of each category to see if the correlate with this result."
   ]
  },
  {
   "cell_type": "code",
   "execution_count": 6,
   "metadata": {},
   "outputs": [
    {
     "name": "stdout",
     "output_type": "stream",
     "text": [
      "0.0004098425861096696\n"
     ]
    }
   ],
   "source": [
    "print(p)"
   ]
  },
  {
   "cell_type": "markdown",
   "metadata": {},
   "source": [
    "The first step is to calculate the expected values for each \"collar\". This is done by multiplying the total of a neighbourhood by the total of a collar divided by the overall total sampled, 650. A chi-squared test is then run on the actual values against the expected values. "
   ]
  },
  {
   "cell_type": "markdown",
   "metadata": {},
   "source": [
    "### White Collar "
   ]
  },
  {
   "cell_type": "code",
   "execution_count": 7,
   "metadata": {},
   "outputs": [
    {
     "data": {
      "text/plain": [
       "[80.54, 80.54, 107.38, 80.54]"
      ]
     },
     "execution_count": 7,
     "metadata": {},
     "output_type": "execute_result"
    }
   ],
   "source": [
    "ex_A = round(150 * 349 / 650, 2)\n",
    "ex_B = round(150 * 349 / 650, 2)\n",
    "ex_C = round(200 * 349 / 650, 2)\n",
    "ex_D = round(150 * 349 / 650, 2)\n",
    "\n",
    "ex_W = [ex_A, ex_B, ex_C, ex_D]\n",
    "\n",
    "ex_W"
   ]
  },
  {
   "cell_type": "code",
   "execution_count": 8,
   "metadata": {},
   "outputs": [
    {
     "data": {
      "text/plain": [
       "Power_divergenceResult(statistic=9.051944772302694, pvalue=0.0286081655305345)"
      ]
     },
     "execution_count": 8,
     "metadata": {},
     "output_type": "execute_result"
    }
   ],
   "source": [
    "chisquare([90, 60, 104, 95], f_exp=[80.54, 80.54, 107.38, 80.54])"
   ]
  },
  {
   "cell_type": "markdown",
   "metadata": {},
   "source": [
    "### Blue Collar"
   ]
  },
  {
   "cell_type": "code",
   "execution_count": 9,
   "metadata": {},
   "outputs": [
    {
     "data": {
      "text/plain": [
       "[34.85, 34.85, 46.46, 34.85]"
      ]
     },
     "execution_count": 9,
     "metadata": {},
     "output_type": "execute_result"
    }
   ],
   "source": [
    "ex_A = round(150 * 151 / 650, 2)\n",
    "ex_B = round(150 * 151 / 650, 2)\n",
    "ex_C = round(200 * 151 / 650, 2)\n",
    "ex_D = round(150 * 151 / 650, 2)\n",
    "\n",
    "ex_B = [ex_A, ex_B, ex_C, ex_D]\n",
    "\n",
    "ex_B"
   ]
  },
  {
   "cell_type": "code",
   "execution_count": 10,
   "metadata": {},
   "outputs": [
    {
     "data": {
      "text/plain": [
       "Power_divergenceResult(statistic=14.032379288643106, pvalue=0.002861408674466977)"
      ]
     },
     "execution_count": 10,
     "metadata": {},
     "output_type": "execute_result"
    }
   ],
   "source": [
    "chisquare([30, 50, 51,20], f_exp=[34.85, 34.85, 46.46, 34.85])"
   ]
  },
  {
   "cell_type": "markdown",
   "metadata": {},
   "source": [
    "### No Collar"
   ]
  },
  {
   "cell_type": "code",
   "execution_count": 11,
   "metadata": {},
   "outputs": [
    {
     "data": {
      "text/plain": [
       "[34.62, 34.62, 46.15, 34.62]"
      ]
     },
     "execution_count": 11,
     "metadata": {},
     "output_type": "execute_result"
    }
   ],
   "source": [
    "ex_A = round(150 * 150 / 650, 2)\n",
    "ex_B = round(150 * 150 / 650, 2)\n",
    "ex_C = round(200 * 150 / 650, 2)\n",
    "ex_D = round(150 * 150 / 650, 2)\n",
    "\n",
    "ex_N = [ex_A, ex_B, ex_C, ex_D]\n",
    "\n",
    "ex_N"
   ]
  },
  {
   "cell_type": "code",
   "execution_count": 12,
   "metadata": {},
   "outputs": [
    {
     "data": {
      "text/plain": [
       "Power_divergenceResult(statistic=1.4854214305072317, pvalue=0.6856391210459625)"
      ]
     },
     "execution_count": 12,
     "metadata": {},
     "output_type": "execute_result"
    }
   ],
   "source": [
    "chisquare([30, 40, 45, 35], f_exp =[34.62, 34.62, 46.15, 34.62])"
   ]
  },
  {
   "cell_type": "code",
   "execution_count": 13,
   "metadata": {},
   "outputs": [
    {
     "data": {
      "text/plain": [
       "24.6"
      ]
     },
     "execution_count": 13,
     "metadata": {},
     "output_type": "execute_result"
    }
   ],
   "source": [
    "white_collar = 9.051944772302694\n",
    "blue_collar = 14.032379288643106\n",
    "no_collar = 1.4854214305072317\n",
    "cs = round(white_collar + blue_collar + no_collar, 1)\n",
    "cs"
   ]
  },
  {
   "cell_type": "markdown",
   "metadata": {},
   "source": [
    "### References\n",
    " - https://docs.scipy.org/doc/scipy/reference/generated/scipy.stats.chi2_contingency.html"
   ]
  },
  {
   "cell_type": "markdown",
   "metadata": {},
   "source": [
    "## Task 3\n",
    "### Research these Excel functions, writing a note in a Markdown cell about the difference between them. Then use numpy to perform a simulation demonstrating that the STDEV.S calculation is a better estimate for the standard deviation of a population when performed on a sample."
   ]
  },
  {
   "cell_type": "markdown",
   "metadata": {},
   "source": [
    "## Standard Deviation"
   ]
  },
  {
   "cell_type": "code",
   "execution_count": 138,
   "metadata": {},
   "outputs": [],
   "source": [
    "# generated random sample from np.random\n",
    "\n",
    "pop = np.random.normal(scale = 6.8, size = 10000) # generated population with standard deviation of 6.8\n"
   ]
  },
  {
   "cell_type": "markdown",
   "metadata": {},
   "source": [
    "The difference between STDEV.p and STDEV.s is that STDEV.s applies [Bessel's Correction](http://mathcenter.oxford.emory.edu/site/math117/besselCorrection/) of n-1.\n",
    "\n",
    "As taken from the tasks instruction, the standard deviation, in this case STDEV.p, of an array of numbers x is calculated using numpy as np.sqrt(np.sum((x - np.mean(x))**2)/len(x)).\n",
    "\n",
    "In the case of STDEV.s, the standard deviation of an array of numbers x is calculated using numpy as np.sqrt(np.sum((x - np.mean(x))**2)/len(x)-1).\n",
    "\n",
    "The standard deviation is a measure of variation in a given set of values. A random sample of 100 values was generated in the normal distribution as the standard deviation would be expected to be 1. \n",
    "\n",
    "STDEV.p can be used to calculate the standard deviation of the sample. However, if this sample were part of a greater population the standardard deviation would be biased towards the sample. This means that observations of the sample mean will differ from the population mean unless the distribution of both was identical, which is highly unlikely. STDEV.s applies Bessel's correction to address this bias and allows extrapolation of the mean as to how it applies to the greater population. As such STDEV.p is best applied to a whole population while STDEV.s is best applied to a sample of the population."
   ]
  },
  {
   "cell_type": "code",
   "execution_count": 166,
   "metadata": {},
   "outputs": [
    {
     "data": {
      "text/plain": [
       "6.7238998237092655"
      ]
     },
     "execution_count": 166,
     "metadata": {},
     "output_type": "execute_result"
    }
   ],
   "source": [
    "# applied numpy standard deviation \n",
    "np.std(pop) "
   ]
  },
  {
   "cell_type": "code",
   "execution_count": 167,
   "metadata": {},
   "outputs": [],
   "source": [
    "# gathered random sample of population of size 1000\n",
    "sample = np.random.choice(pop, 1000)"
   ]
  },
  {
   "cell_type": "code",
   "execution_count": 170,
   "metadata": {},
   "outputs": [
    {
     "data": {
      "text/plain": [
       "6.500893193578381"
      ]
     },
     "execution_count": 170,
     "metadata": {},
     "output_type": "execute_result"
    }
   ],
   "source": [
    "sdp = np.sqrt(np.sum((xsample - np.mean(sample))**2)/len(sample))\n",
    "sdp"
   ]
  },
  {
   "cell_type": "code",
   "execution_count": 171,
   "metadata": {
    "scrolled": true
   },
   "outputs": [
    {
     "data": {
      "text/plain": [
       "6.810719286484907"
      ]
     },
     "execution_count": 171,
     "metadata": {},
     "output_type": "execute_result"
    }
   ],
   "source": [
    "sds = np.sqrt(np.sum((sample - np.mean(sample))**2)/(len(sample)-1))\n",
    "sds"
   ]
  },
  {
   "cell_type": "markdown",
   "metadata": {},
   "source": [
    "As seen above, the standard deviation when calculated with STDEV.s is more accurate than STDEV.p when applied to a population sample."
   ]
  },
  {
   "cell_type": "markdown",
   "metadata": {},
   "source": [
    "### References\n",
    " - http://mathcenter.oxford.emory.edu/site/math117/besselCorrection/"
   ]
  },
  {
   "cell_type": "markdown",
   "metadata": {},
   "source": [
    "## Task 4\n",
    "### Use scikit-learn to apply k Nearest Neighbours clustering to Fisher’s famous Iris data set."
   ]
  },
  {
   "cell_type": "markdown",
   "metadata": {},
   "source": [
    "## k Nearest Neighbour"
   ]
  },
  {
   "cell_type": "code",
   "execution_count": 86,
   "metadata": {},
   "outputs": [
    {
     "data": {
      "text/plain": [
       "<Figure size 576x432 with 0 Axes>"
      ]
     },
     "metadata": {},
     "output_type": "display_data"
    },
    {
     "data": {
      "image/png": "[encoded data removed]",
      "text/plain": [
       "<Figure size 576x432 with 1 Axes>"
      ]
     },
     "metadata": {},
     "output_type": "display_data"
    }
   ],
   "source": [
    "# https://scikit-learn.org/stable/auto_examples/neighbors/plot_classification.html\n",
    "\n",
    "# import iris dataset \n",
    "iris = datasets.load_iris()\n",
    "\n",
    "\n",
    "\n",
    "# Only take the first two features of dataset, sepal length and seal width \n",
    "X = iris.data[:, :2]\n",
    "y = iris.target\n",
    "\n",
    "knn = KNeighborsClassifier(n_neighbors = 15)\n",
    "\n",
    "# we create an instance of Neighbours Classifier and fit the data.\n",
    "knn.fit(X, y)\n",
    "\n",
    "# Plot the decision boundary. For that, we will asign a colour to each\n",
    "# point in the mesh [x_min, m_max]x[y_min, y_max].\n",
    "x_min, x_max = X[:,0].min() - .5, X[:,0].max() + .5\n",
    "y_min, y_max = X[:,1].min() - .5, X[:,1].max() + .5\n",
    "xx, yy = np.meshgrid(np.arange(x_min, x_max, h), np.arange(y_min, y_max, h))\n",
    "Z = knn.predict(np.c_[xx.ravel(), yy.ravel()])\n",
    "\n",
    "# Put the result into a color plot\n",
    "Z = Z.reshape(xx.shape)\n",
    "plt.figure(1, figsize=(8, 6))\n",
    "plt.figure(figsize=(8, 6))\n",
    "plt.contourf(xx, yy, Z, cmap=cmap_light)\n",
    "\n",
    "# Plot also the training points\n",
    "sns.scatterplot(x=X[:, 0], y=X[:, 1], hue=iris.target_names[y],\n",
    "                palette=cmap_bold, alpha=1.0, edgecolor=\"black\")\n",
    "plt.xlabel('Sepal length')\n",
    "plt.ylabel('Sepal width')\n",
    "\n",
    "plt.xlim(xx.min(), xx.max())\n",
    "plt.ylim(yy.min(), yy.max())\n",
    "plt.xticks(())\n",
    "plt.yticks(())\n",
    "\n",
    "plt.show()"
   ]
  },
  {
   "cell_type": "markdown",
   "metadata": {},
   "source": [
    "This first plot displays the decision boundaries used in k Nearest Neighbour for predicting species based on sepal length and width. Results that fall with the orange section are attributed to setosa, dark blue are attributed to virginica and cyan are attributed to versicolor. Next we will split the dataset in 75% training data and 25% test data using train_test_split from sklearn.model_selection. We will then determine the accuracy of of the model."
   ]
  },
  {
   "cell_type": "code",
   "execution_count": 101,
   "metadata": {},
   "outputs": [
    {
     "data": {
      "image/png": "[encoded data removed]",
      "text/plain": [
       "<Figure size 432x288 with 1 Axes>"
      ]
     },
     "metadata": {
      "needs_background": "light"
     },
     "output_type": "display_data"
    }
   ],
   "source": [
    "# https://towardsdatascience.com/knn-using-scikit-learn-c6bed765be75\n",
    "X = iris.data\n",
    "y = iris.target\n",
    "\n",
    "X_train, X_test, y_train, y_test = train_test_split(X,y, test_size=0.25, random_state=4) # test size set for 25%\n",
    "\n",
    "\n",
    "k_range = range(1, 25)\n",
    "scores = {}\n",
    "scores_list = []\n",
    "for k in k_range:\n",
    "    knn = KNeighborsClassifier(n_neighbors=k)\n",
    "    knn.fit(X_train, y_train)\n",
    "    y_pred=knn.predict(X_test)\n",
    "    scores[k] = metrics.accuracy_score(y_test,y_pred)\n",
    "    scores_list.append(metrics.accuracy_score(y_test,y_pred))\n",
    "\n",
    "plt.plot(k_range, scores_list)\n",
    "plt.show()"
   ]
  },
  {
   "cell_type": "markdown",
   "metadata": {},
   "source": [
    "As evident by this graph, when predicting the species of iris flower it is most accurate with between around 3 and 19 neighbours. For this reason we will set the number of neighbours to 10."
   ]
  },
  {
   "cell_type": "code",
   "execution_count": 102,
   "metadata": {},
   "outputs": [
    {
     "data": {
      "text/plain": [
       "KNeighborsClassifier(n_neighbors=11)"
      ]
     },
     "execution_count": 102,
     "metadata": {},
     "output_type": "execute_result"
    }
   ],
   "source": [
    "# set neigbours to 10 \n",
    "knn = KNeighborsClassifier(n_neighbors = 11)\n",
    "knn.fit(X,y)"
   ]
  },
  {
   "cell_type": "code",
   "execution_count": 103,
   "metadata": {},
   "outputs": [
    {
     "name": "stdout",
     "output_type": "stream",
     "text": [
      "setosa\n",
      "versicolor\n",
      "virginia\n"
     ]
    }
   ],
   "source": [
    "classes = {0:'setosa', 1:'versicolor', 2:'virginia'}\n",
    "\n",
    "# plugged in known sepal length and widths to confirm that accurate prediction made.\n",
    "x_new = [[5.4, 3.7, 1.5, 0.2], # setosa\n",
    "         [5.2, 2.7, 3.9, 1.4], # versicolor\n",
    "         [7.3, 2.9, 6.3, 1.8]  # virgina\n",
    "        ]\n",
    "\n",
    "y_predict = knn.predict(x_new)\n",
    "\n",
    "print(classes[y_predict[0]])\n",
    "print(classes[y_predict[1]])\n",
    "print(classes[y_predict[2]])"
   ]
  },
  {
   "cell_type": "markdown",
   "metadata": {},
   "source": [
    "As we can see, the model has correctly predicted each of these examples."
   ]
  },
  {
   "cell_type": "markdown",
   "metadata": {},
   "source": [
    "### References\n",
    " - https://scikit-learn.org/stable/modules/neighbors.html\n",
    " - https://scikit-learn.org/stable/auto_examples/neighbors/plot_classification.html\n",
    " - https://towardsdatascience.com/knn-using-scikit-learn-c6bed765be75"
   ]
  },
  {
   "cell_type": "code",
   "execution_count": null,
   "metadata": {},
   "outputs": [],
   "source": []
  }
 ],
 "metadata": {
  "kernelspec": {
   "display_name": "Python 3",
   "language": "python",
   "name": "python3"
  },
  "language_info": {
   "codemirror_mode": {
    "name": "ipython",
    "version": 3
   },
   "file_extension": ".py",
   "mimetype": "text/x-python",
   "name": "python",
   "nbconvert_exporter": "python",
   "pygments_lexer": "ipython3",
   "version": "3.8.5"
  }
 },
 "nbformat": 4,
 "nbformat_minor": 4
}
