{
 "cells": [
  {
   "cell_type": "markdown",
   "metadata": {},
   "source": [
    "# Tasks"
   ]
  },
  {
   "cell_type": "code",
   "execution_count": 31,
   "metadata": {},
   "outputs": [],
   "source": [
    "from scipy.stats import chisquare\n",
    "import numpy as np\n",
    "import pandas as pd\n",
    "from scipy.stats import chi2_contingency"
   ]
  },
  {
   "cell_type": "code",
   "execution_count": null,
   "metadata": {},
   "outputs": [],
   "source": []
  },
  {
   "cell_type": "markdown",
   "metadata": {},
   "source": [
    "# Square Root of 2"
   ]
  },
  {
   "cell_type": "markdown",
   "metadata": {},
   "source": [
    "To calculate the square root of a number in python you need to use the power operator, x ** y, where x is the number you would like to get the square root of and y is 0.5. This is based on the mathmatical property of $\\sqrt{x}$ = $x^{\\frac{1}{2}}$, i.e. the square root of a number is equal to that number to the power of ${\\frac{1}{2}}$.\n",
    "\n",
    "Using a common example, we know that $\\sqrt{4} = 2$.\n",
    "\n",
    "Conversely $2^{2} = 4$.\n",
    "\n",
    "Now raise both to the half power.\n",
    "\n",
    "$2^{2^\\frac{1}{2}} = 4^{\\frac{1}{2}}$\n",
    "\n",
    "When raising a power to another power you multiply them.\n",
    "\n",
    "$2^{2\\times \\frac{1}{2}} = 2^1 = 2$\n",
    "\n",
    "So from this we can infer that $2 = 4^{\\frac{1}{2}}$ and subsequently $\\sqrt{4} = 4^{\\frac{1}{2}}$.\n",
    "\n",
    "The following function will calculate the square root of 2 and given that the 2 is not a perfect square it will return an irrational number, one that cannot be expressed as a simple fraction. As such the function will return the square root of 2 to 100 places. "
   ]
  },
  {
   "cell_type": "code",
   "execution_count": 6,
   "metadata": {},
   "outputs": [],
   "source": [
    "# https://realpython.com/python-square-root-function/\n",
    "\n",
    "# define function \n",
    "def sqrt2():\n",
    "    \n",
    "    n = 2  # variable containing the number 2\n",
    "    \n",
    "    n_sqrt = n ** 0.5 # variable containing square root of 2 \n",
    "    \n",
    "    # print the square root of 2 to 100 places\n",
    "    print('The square root of %d is %.100f'% (n, n_sqrt))"
   ]
  },
  {
   "cell_type": "code",
   "execution_count": 7,
   "metadata": {},
   "outputs": [
    {
     "name": "stdout",
     "output_type": "stream",
     "text": [
      "The square root of 2 is 1.4142135623730951454746218587388284504413604736328125000000000000000000000000000000000000000000000000\n"
     ]
    }
   ],
   "source": [
    "sqrt2()"
   ]
  },
  {
   "cell_type": "code",
   "execution_count": null,
   "metadata": {},
   "outputs": [],
   "source": []
  },
  {
   "cell_type": "code",
   "execution_count": null,
   "metadata": {},
   "outputs": [],
   "source": []
  },
  {
   "cell_type": "markdown",
   "metadata": {},
   "source": [
    "# Chi-Square Test"
   ]
  },
  {
   "cell_type": "code",
   "execution_count": 6,
   "metadata": {},
   "outputs": [
    {
     "name": "stdout",
     "output_type": "stream",
     "text": [
      "               A   B    C   D\n",
      "White Collar  90  60  104  95\n",
      "Blue Collar   30  50   51  20\n",
      "No collar     30  40   45  35\n"
     ]
    }
   ],
   "source": [
    "cols = ['A', 'B', 'C', 'D']\n",
    "data = pd.DataFrame(columns=cols)\n",
    "\n",
    "data.loc['White Collar'] = [90, 60, 104, 95]\n",
    "data.loc['Blue Collar'] = [30, 50, 51, 20]\n",
    "data.loc['No collar'] = [30, 40, 45, 35]\n",
    "\n",
    "print (data)"
   ]
  },
  {
   "cell_type": "code",
   "execution_count": 35,
   "metadata": {},
   "outputs": [
    {
     "name": "stdout",
     "output_type": "stream",
     "text": [
      "24.6\n"
     ]
    }
   ],
   "source": [
    "stat, p, dof, expected = chi2_contingency(data)\n",
    "print(round(stat,1))"
   ]
  },
  {
   "cell_type": "code",
   "execution_count": 36,
   "metadata": {},
   "outputs": [
    {
     "name": "stdout",
     "output_type": "stream",
     "text": [
      "0.0004098425861096696\n"
     ]
    }
   ],
   "source": [
    "print(p)"
   ]
  },
  {
   "cell_type": "markdown",
   "metadata": {},
   "source": [
    "### White Collar "
   ]
  },
  {
   "cell_type": "code",
   "execution_count": 19,
   "metadata": {},
   "outputs": [
    {
     "data": {
      "text/plain": [
       "[80.54, 80.54, 107.38, 80.54]"
      ]
     },
     "execution_count": 19,
     "metadata": {},
     "output_type": "execute_result"
    }
   ],
   "source": [
    "ex_A = round(150 * 349 / 650, 2)\n",
    "ex_B = round(150 * 349 / 650, 2)\n",
    "ex_C = round(200 * 349 / 650, 2)\n",
    "ex_D = round(150 * 349 / 650, 2)\n",
    "\n",
    "ex_W = [ex_A, ex_B, ex_C, ex_D]\n",
    "\n",
    "ex_W"
   ]
  },
  {
   "cell_type": "markdown",
   "metadata": {},
   "source": [
    "### Blue Collar"
   ]
  },
  {
   "cell_type": "code",
   "execution_count": 25,
   "metadata": {},
   "outputs": [
    {
     "data": {
      "text/plain": [
       "[34.85, 34.85, 46.46, 34.85]"
      ]
     },
     "execution_count": 25,
     "metadata": {},
     "output_type": "execute_result"
    }
   ],
   "source": [
    "ex_A = round(150 * 151 / 650, 2)\n",
    "ex_B = round(150 * 151 / 650, 2)\n",
    "ex_C = round(200 * 151 / 650, 2)\n",
    "ex_D = round(150 * 151 / 650, 2)\n",
    "\n",
    "ex_B = [ex_A, ex_B, ex_C, ex_D]\n",
    "\n",
    "ex_B"
   ]
  },
  {
   "cell_type": "markdown",
   "metadata": {},
   "source": [
    "### No Collar"
   ]
  },
  {
   "cell_type": "code",
   "execution_count": 26,
   "metadata": {},
   "outputs": [
    {
     "data": {
      "text/plain": [
       "[34.62, 34.62, 46.15, 34.62]"
      ]
     },
     "execution_count": 26,
     "metadata": {},
     "output_type": "execute_result"
    }
   ],
   "source": [
    "ex_A = round(150 * 150 / 650, 2)\n",
    "ex_B = round(150 * 150 / 650, 2)\n",
    "ex_C = round(200 * 150 / 650, 2)\n",
    "ex_D = round(150 * 150 / 650, 2)\n",
    "\n",
    "ex_N = [ex_A, ex_B, ex_C, ex_D]\n",
    "\n",
    "ex_N"
   ]
  },
  {
   "cell_type": "code",
   "execution_count": 24,
   "metadata": {},
   "outputs": [
    {
     "data": {
      "text/plain": [
       "Power_divergenceResult(statistic=9.051944772302694, pvalue=0.0286081655305345)"
      ]
     },
     "execution_count": 24,
     "metadata": {},
     "output_type": "execute_result"
    }
   ],
   "source": [
    "chisquare([90, 60, 104, 95], f_exp=[80.54, 80.54, 107.38, 80.54])"
   ]
  },
  {
   "cell_type": "code",
   "execution_count": 28,
   "metadata": {},
   "outputs": [
    {
     "data": {
      "text/plain": [
       "Power_divergenceResult(statistic=14.032379288643106, pvalue=0.002861408674466977)"
      ]
     },
     "execution_count": 28,
     "metadata": {},
     "output_type": "execute_result"
    }
   ],
   "source": [
    "chisquare([30, 50, 51,20], f_exp=[34.85, 34.85, 46.46, 34.85])"
   ]
  },
  {
   "cell_type": "code",
   "execution_count": 29,
   "metadata": {},
   "outputs": [
    {
     "data": {
      "text/plain": [
       "Power_divergenceResult(statistic=1.4854214305072317, pvalue=0.6856391210459625)"
      ]
     },
     "execution_count": 29,
     "metadata": {},
     "output_type": "execute_result"
    }
   ],
   "source": [
    "chisquare([30, 40, 45, 35], f_exp =[34.62, 34.62, 46.15, 34.62])"
   ]
  },
  {
   "cell_type": "code",
   "execution_count": null,
   "metadata": {},
   "outputs": [],
   "source": []
  },
  {
   "cell_type": "code",
   "execution_count": null,
   "metadata": {},
   "outputs": [],
   "source": []
  },
  {
   "cell_type": "markdown",
   "metadata": {},
   "source": [
    "# Standard Deviation"
   ]
  },
  {
   "cell_type": "code",
   "execution_count": 37,
   "metadata": {},
   "outputs": [
    {
     "data": {
      "text/plain": [
       "array([[0.4104557 , 0.32666006, 0.9589421 ],\n",
       "       [0.80685963, 0.36600891, 0.98716631],\n",
       "       [0.32862286, 0.80060568, 0.86531464],\n",
       "       [0.25560665, 0.82283413, 0.73238027],\n",
       "       [0.44404414, 0.11016152, 0.65980808]])"
      ]
     },
     "execution_count": 37,
     "metadata": {},
     "output_type": "execute_result"
    }
   ],
   "source": [
    "x = np.random.rand(5, 3)\n",
    "x"
   ]
  },
  {
   "cell_type": "code",
   "execution_count": null,
   "metadata": {},
   "outputs": [],
   "source": []
  },
  {
   "cell_type": "code",
   "execution_count": 39,
   "metadata": {},
   "outputs": [
    {
     "data": {
      "text/plain": [
       "0.474087593459278"
      ]
     },
     "execution_count": 39,
     "metadata": {},
     "output_type": "execute_result"
    }
   ],
   "source": [
    "sdp = np.sqrt(np.sum((x - np.mean(x))**2)/len(x))\n",
    "sdp"
   ]
  },
  {
   "cell_type": "code",
   "execution_count": 43,
   "metadata": {},
   "outputs": [
    {
     "data": {
      "text/plain": [
       "0.5300460431321151"
      ]
     },
     "execution_count": 43,
     "metadata": {},
     "output_type": "execute_result"
    }
   ],
   "source": [
    "sds = np.sqrt(np.sum((x - np.mean(x))**2)/(len(x)-1))\n",
    "sds"
   ]
  },
  {
   "cell_type": "code",
   "execution_count": null,
   "metadata": {},
   "outputs": [],
   "source": []
  }
 ],
 "metadata": {
  "kernelspec": {
   "display_name": "Python 3",
   "language": "python",
   "name": "python3"
  },
  "language_info": {
   "codemirror_mode": {
    "name": "ipython",
    "version": 3
   },
   "file_extension": ".py",
   "mimetype": "text/x-python",
   "name": "python",
   "nbconvert_exporter": "python",
   "pygments_lexer": "ipython3",
   "version": "3.8.3"
  }
 },
 "nbformat": 4,
 "nbformat_minor": 4
}
